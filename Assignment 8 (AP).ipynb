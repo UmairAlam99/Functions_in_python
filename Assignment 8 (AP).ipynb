{
 "cells": [
  {
   "cell_type": "markdown",
   "id": "94b44a26-a3e1-40b6-a2f8-5288da630659",
   "metadata": {},
   "source": [
    "Q1. Write a Python function called add_numbers that takes two numbers as arguments and returns their sum. Then, test the function by calling it with two numbers of your choice."
   ]
  },
  {
   "cell_type": "code",
   "execution_count": 3,
   "id": "d5b8a50f-4877-44d5-8f99-11492c63d48b",
   "metadata": {},
   "outputs": [
    {
     "data": {
      "text/plain": [
       "45"
      ]
     },
     "execution_count": 3,
     "metadata": {},
     "output_type": "execute_result"
    }
   ],
   "source": [
    "def addition(a, b):\n",
    "    sum = a + b\n",
    "    return sum\n",
    "\n",
    "addition(15,30)"
   ]
  },
  {
   "cell_type": "markdown",
   "id": "2df82858-cc42-45be-b4d8-a6d24073bb06",
   "metadata": {},
   "source": [
    "Q2. Write a Python function count_vowels that accepts a string and returns the number of vowels a, e, i, o, u, A, E, I, O, U in that string.\n",
    "\n",
    "- Example: 'Welcome'\n",
    "- Output: 3 vowels"
   ]
  },
  {
   "cell_type": "code",
   "execution_count": 4,
   "id": "be1b5a8b-36fc-420b-8f99-0af9f437868f",
   "metadata": {},
   "outputs": [
    {
     "name": "stdout",
     "output_type": "stream",
     "text": [
      "3\n"
     ]
    }
   ],
   "source": [
    "def count_vowels(text):\n",
    "    vowels = \"aeiouAEIOU\"\n",
    "    count = 0\n",
    "    for ch in text:\n",
    "        if ch in vowels:\n",
    "            count += 1\n",
    "    return count\n",
    "print(count_vowels(\"Welcome\"))"
   ]
  },
  {
   "cell_type": "markdown",
   "id": "14ada7c2-26ff-467b-9856-2bae9d7b673f",
   "metadata": {},
   "source": [
    "Q3. Create a Python function called currency_converter() that takes two arguments:\n",
    "- amount: The amount of money to be converted (in USD).\n",
    "- exchange_rate (default is 280): The conversion rate from USD to another currency (e.g., PKR). You can assume the default rate is 1 USD = 280 PKR.\n",
    "The function should return a message showing how much the given amount is worth in the target currency (PKR).\n",
    "Expected Output:\n",
    "'100 USD is equivalent to 28000 PKR'"
   ]
  },
  {
   "cell_type": "code",
   "execution_count": 5,
   "id": "125740b9-95ba-48cd-bd22-9ea2ee071a29",
   "metadata": {},
   "outputs": [
    {
     "name": "stdout",
     "output_type": "stream",
     "text": [
      "500 USD is equivalent to 140000 PKR\n"
     ]
    }
   ],
   "source": [
    "def converter(amount, exchange_rate=280):\n",
    "    converted = amount * exchange_rate\n",
    "    return f\"{amount} USD is equivalent to {converted} PKR\"\n",
    "print(converter(500)) "
   ]
  },
  {
   "cell_type": "markdown",
   "id": "2be859c9-23bb-4cff-abee-092295757847",
   "metadata": {},
   "source": [
    "Q4. Write a Python function display_student_info that accepts the following details about a student:\n",
    "\n",
    "- name (Keyword argument): The name of the student.\n",
    "- age (Keyword argument): The age of the student.\n",
    "- grade (Keyword argument): The grade the student is in.\n",
    "- school (Keyword argument): The name of the school the student attends.\n",
    "- \n",
    "Expected Output:\n",
    "- Name: John Doe\n",
    "- Age: 15\n",
    "- Grade: 10th\n",
    "- School: Greenwood High"
   ]
  },
  {
   "cell_type": "code",
   "execution_count": 6,
   "id": "bb788609-47ac-4215-9cd0-713d463c5c34",
   "metadata": {},
   "outputs": [
    {
     "name": "stdout",
     "output_type": "stream",
     "text": [
      "Name: Mustafa\n",
      "Age: 15\n",
      "Grade: 11th\n",
      "School: The Educators\n"
     ]
    }
   ],
   "source": [
    "def student_info(*, name, age, grade, school):\n",
    "    print(\"Name:\", name)\n",
    "    print(\"Age:\", age)\n",
    "    print(\"Grade:\", grade)\n",
    "    print(\"School:\", school)\n",
    "\n",
    "student_info(name=\"Mustafa\", age=15, grade=\"11th\", school=\"The Educators\")"
   ]
  },
  {
   "cell_type": "markdown",
   "id": "6fa029c5-095c-463f-b29d-ff8469cbdfea",
   "metadata": {},
   "source": [
    "Q5. Write a Python function calculate_price that accepts two positional arguments:\n",
    "\n",
    "- price: The price of a single item.\n",
    "- quantity: The number of items bought.\n",
    "- The function should return the total price by multiplying price and quantity."
   ]
  },
  {
   "cell_type": "code",
   "execution_count": 7,
   "id": "0af9be8c-eccd-4ec3-8fc1-502669b41afe",
   "metadata": {},
   "outputs": [
    {
     "data": {
      "text/plain": [
       "500"
      ]
     },
     "execution_count": 7,
     "metadata": {},
     "output_type": "execute_result"
    }
   ],
   "source": [
    "def cal_price(price, quantity):\n",
    "    total = price * quantity\n",
    "    return total\n",
    "\n",
    "cal_price(100,5)"
   ]
  },
  {
   "cell_type": "raw",
   "id": "dcdab311-1ef1-41d4-9b0e-48f1a2aef120",
   "metadata": {},
   "source": [
    "Q6. Write a Python function display_prices that takes a product name and an arbitrary number of keyword arguments representing product prices. The function should display each product and its price.\n",
    "\n",
    "Expected Output:\n",
    "Product: Laptop\n",
    "Amazon: $800\n",
    "eBay: $750\n",
    "Walmart: $780"
   ]
  },
  {
   "cell_type": "code",
   "execution_count": 8,
   "id": "a6861d02-dbb0-48be-82a2-bd55c36a4707",
   "metadata": {},
   "outputs": [
    {
     "name": "stdout",
     "output_type": "stream",
     "text": [
      "Product: Laptop\n",
      "Amazon: $800\n",
      "eBay: $750\n",
      "Walmart: $780\n"
     ]
    }
   ],
   "source": [
    "def show_prices(product, **prices):\n",
    "    print(\"Product:\", product)\n",
    "    for store, price in prices.items():\n",
    "        print(f\"{store}: ${price}\")\n",
    "\n",
    "show_prices(\"Laptop\", Amazon=800, eBay=750, Walmart=780)"
   ]
  },
  {
   "cell_type": "raw",
   "id": "b127ae65-6f91-4c32-b965-da24cff640dc",
   "metadata": {},
   "source": [
    "Q7. Write a Python function find_max that takes arbitrary number of positional arguments and returns the maximum number."
   ]
  },
  {
   "cell_type": "code",
   "execution_count": 10,
   "id": "3da17120-6cba-4330-9dba-6b33a241240c",
   "metadata": {},
   "outputs": [
    {
     "name": "stdout",
     "output_type": "stream",
     "text": [
      "49\n"
     ]
    }
   ],
   "source": [
    "def find_maximum(*numbers):\n",
    "    return max(numbers)\n",
    "\n",
    "print(find_maximum(3, 6, 9, 49, 12))"
   ]
  },
  {
   "cell_type": "raw",
   "id": "c3f996f4-190d-4565-b74e-925325a107e3",
   "metadata": {},
   "source": [
    "Q9. Write a Python function taxi_fare(distance, rate=100) that calculates the taxi fare.\n",
    "The default rate is 100 PKR per km, but the user can also enter a custom rate.\n",
    "FORMULA: distance * rate\n",
    "\n",
    "Expected Output:\n",
    "- Taxi fare for 10 km = 1000 PKR (using default parameter)\n",
    "- Taxi fare for 15 km = 1800 PKR (custom rate)"
   ]
  },
  {
   "cell_type": "code",
   "execution_count": null,
   "id": "0d7fb180-8791-45ad-bb9e-dc323535ce6e",
   "metadata": {},
   "outputs": [],
   "source": [
    "def taxi_fare(distance, rate=100):\n",
    "    return distance * rate\n",
    "    \n",
    "print(\"Taxi fare for 10 km =\", taxi_fare(10), \"PKR\") \n",
    "print(\"Taxi fare for 15 km =\", taxi_fare(15, 120), \"PKR\")"
   ]
  },
  {
   "cell_type": "code",
   "execution_count": null,
   "id": "d7242935-7424-4d92-a5e5-cbf66fe8ac52",
   "metadata": {},
   "outputs": [],
   "source": []
  }
 ],
 "metadata": {
  "kernelspec": {
   "display_name": "Python 3 (ipykernel)",
   "language": "python",
   "name": "python3"
  },
  "language_info": {
   "codemirror_mode": {
    "name": "ipython",
    "version": 3
   },
   "file_extension": ".py",
   "mimetype": "text/x-python",
   "name": "python",
   "nbconvert_exporter": "python",
   "pygments_lexer": "ipython3",
   "version": "3.13.5"
  }
 },
 "nbformat": 4,
 "nbformat_minor": 5
}
